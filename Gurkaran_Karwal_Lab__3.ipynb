{
  "nbformat": 4,
  "nbformat_minor": 0,
  "metadata": {
    "colab": {
      "provenance": [],
      "authorship_tag": "ABX9TyM2bZabxnbWo6Vhp7240uYZ",
      "include_colab_link": true
    },
    "kernelspec": {
      "name": "python3",
      "display_name": "Python 3"
    },
    "language_info": {
      "name": "python"
    }
  },
  "cells": [
    {
      "cell_type": "markdown",
      "metadata": {
        "id": "view-in-github",
        "colab_type": "text"
      },
      "source": [
        "<a href=\"https://colab.research.google.com/github/karank420/COE817_Lab_4/blob/main/Gurkaran_Karwal_Lab__3.ipynb\" target=\"_parent\"><img src=\"https://colab.research.google.com/assets/colab-badge.svg\" alt=\"Open In Colab\"/></a>"
      ]
    },
    {
      "cell_type": "markdown",
      "source": [],
      "metadata": {
        "id": "hjqS98V06hOM"
      }
    },
    {
      "cell_type": "markdown",
      "source": [
        "# Lab #3\n",
        "\n",
        "First and Last Name: Gurkaran Karwal\n",
        "\n",
        "Student ID: 500831607\n",
        "\n",
        "Video URL: No Video Necessary"
      ],
      "metadata": {
        "id": "Rc7mpU8sQXgR"
      }
    },
    {
      "cell_type": "code",
      "execution_count": null,
      "metadata": {
        "colab": {
          "base_uri": "https://localhost:8080/"
        },
        "id": "n3OGMmis38jb",
        "outputId": "6dccfb41-1935-419d-f955-78be463f6cc5"
      },
      "outputs": [
        {
          "output_type": "stream",
          "name": "stdout",
          "text": [
            "[2 0 1 2 1 1 0 2]\n",
            "[[1.5        3.5       ]\n",
            " [7.         4.33333333]\n",
            " [3.66666667 9.        ]]\n"
          ]
        }
      ],
      "source": [
        "import numpy as np\n",
        "import matplotlib.pyplot as plt\n",
        "\n",
        "# Define the data points\n",
        "data_points = np.array([[2.0, 10.0], [2.0, 5.0], [8.0, 4.0], [5.0, 8.0], [7.0, 5.0], [6.0, 4.0], [1.0, 2.0], [4.0, 9.0]])\n",
        "\n",
        "\n",
        "# Define the initial seeds (centers)\n",
        "seeds = np.array([[2.0, 5.0], [8.0, 4.0], [4.0, 9.0]])\n",
        "centroids = np.array([[2.0, 5.0], [8.0, 4.0], [4.0, 9.0]])\n",
        "\n",
        "# Calculate the distances between each point and each centroid\n",
        "distances = np.sqrt(((data_points - centroids[:, np.newaxis])**2).sum(axis=2))\n",
        "\n",
        "# Assign each point to the nearest centroid\n",
        "clusters = np.argmin(distances, axis=0)\n",
        "\n",
        "# Print the new clusters\n",
        "print(clusters)\n",
        "\n",
        "\n",
        "# Update the centroids\n",
        "for i in range(len(centroids)):\n",
        "    centroids[i] = np.mean(data_points[clusters == i], axis=0)\n",
        "\n",
        "# Print the new centroids\n",
        "print(centroids)\n",
        "\n",
        "\n",
        "def k_means(points, epochs):\n",
        "    # Initialize centroids\n",
        "    centroids = np.array([[2.0, 5.0], [8.0, 4.0], [4.0, 9.0]])\n",
        "\n",
        "    for epoch in range(epochs):\n",
        "        # Assign each point to the nearest centroid\n",
        "        distances = np.sqrt(((points - centroids[:, np.newaxis])**2).sum(axis=2))\n",
        "        clusters = np.argmin(distances, axis=0)\n",
        "\n",
        "        # Update centroids\n",
        "        for i in range(len(centroids)):\n",
        "            centroids[i] = np.mean(points[clusters == i], axis=0)\n",
        "\n",
        "    return clusters, centroids\n",
        "\n",
        "\n",
        "\n",
        "def plot_clusters(data_points, clusters, centers):\n",
        "    # Set the colors for each cluster\n",
        "    colors = ['r', 'g', 'b', 'y', 'c', 'm']\n",
        "\n",
        "    # Get the number of clusters\n",
        "    num_clusters = len(np.unique(clusters))\n",
        "\n",
        "    # Plot the data points\n",
        "    plt.scatter(data_points[:, 0], data_points[:, 1], c=[colors[i] for i in clusters])\n",
        "\n",
        "    # Plot the centers\n",
        "    plt.scatter(centers[:, 0], centers[:, 1], marker='x', c='k')\n",
        "\n",
        "    # Plot a circle around each cluster\n",
        "    for i in range(num_clusters):\n",
        "        cluster_points = data_points[clusters == i]\n",
        "        cluster_center = centers[i]\n",
        "        radius = np.max(np.sqrt(np.sum((cluster_points - cluster_center)**2, axis=1)))\n",
        "        circle = plt.Circle(cluster_center, radius, color=colors[i], fill=False)\n",
        "        plt.gca().add_artist(circle)\n",
        "\n",
        "    plt.grid(True)\n",
        "    plt.figure(figsize=(12, 10))\n",
        "    plt.show()\n",
        "\n",
        "\n",
        "\n"
      ]
    },
    {
      "cell_type": "code",
      "source": [
        "new_clust, new_cent = k_means(data_points,1)\n",
        "plot_clusters(data_points, new_clust, new_cent)"
      ],
      "metadata": {
        "colab": {
          "base_uri": "https://localhost:8080/",
          "height": 283
        },
        "id": "0SHS4o0kVK18",
        "outputId": "b7def50e-bea3-47e7-8ded-87b14aae0a80"
      },
      "execution_count": null,
      "outputs": [
        {
          "output_type": "display_data",
          "data": {
            "text/plain": [
              "<Figure size 432x288 with 1 Axes>"
            ],
            "image/png": "[encoded data removed]"
          },
          "metadata": {
            "needs_background": "light"
          }
        },
        {
          "output_type": "display_data",
          "data": {
            "text/plain": [
              "<Figure size 864x720 with 0 Axes>"
            ]
          },
          "metadata": {}
        }
      ]
    },
    {
      "cell_type": "code",
      "source": [
        "import numpy as np\n",
        "import pandas as pd\n",
        "\n",
        "# Read the dataset from the URL\n",
        "url = 'https://raw.githubusercontent.com/tofighi/MachineLearning/master/datasets/heart.csv'\n",
        "df = pd.read_csv(url)\n",
        "\n",
        "# Select sbp and tobacco features\n",
        "X = df[['sbp', 'tobacco']].values[:300]\n",
        "\n",
        "# Normalize the data\n",
        "X = (X - np.mean(X, axis=0)) / np.std(X, axis=0)\n",
        "\n",
        "# Define the euclidean distance function\n",
        "def euclidean_distance(x1, x2):\n",
        "    return np.sqrt(np.sum((x1 - x2)**2))\n",
        "\n",
        "# Define the KMeans class\n",
        "class KMeans:\n",
        "    def __init__(self, K=2, max_iters=100, plot_steps=False):\n",
        "        self.K = K\n",
        "        self.max_iters = max_iters\n",
        "        self.plot_steps = plot_steps\n",
        "\n",
        "        # Initialize empty lists to hold cluster labels and centroids\n",
        "        self.labels = []\n",
        "        self.centroids = []\n",
        "\n",
        "    def fit(self, X):\n",
        "        # Initialize centroids randomly\n",
        "        self.centroids = X[np.random.choice(X.shape[0], self.K, replace=False)]\n",
        "\n",
        "        for i in range(self.max_iters):\n",
        "            # Assign each data point to the nearest centroid\n",
        "            distances = np.zeros((X.shape[0], self.K))\n",
        "            for j in range(self.K):\n",
        "                distances[:,j] = np.apply_along_axis(lambda x: euclidean_distance(x, self.centroids[j]), 1, X)\n",
        "            self.labels = np.argmin(distances, axis=1)\n",
        "\n",
        "            # Update centroids to the mean of the assigned data points\n",
        "            for j in range(self.K):\n",
        "                self.centroids[j] = np.mean(X[self.labels == j], axis=0)\n",
        "\n",
        "            # Plot the clusters at each iteration if plot_steps is True\n",
        "            if self.plot_steps:\n",
        "                plt.scatter(X[:,0], X[:,1], c=self.labels, cmap='viridis')\n",
        "                plt.scatter(self.centroids[:,0], self.centroids[:,1], marker='x', s=200, linewidths=3, color='r')\n",
        "                plt.show()\n",
        "\n",
        "        return self.labels, self.centroids\n",
        "\n",
        "# Create an instance of the KMeans class and fit the training data\n",
        "kmeans = KMeans(K=2)\n",
        "labels, centroids = kmeans.fit(X)\n",
        "\n",
        "# Test the model on the remaining data\n",
        "X_test = df[['sbp', 'tobacco']].values[300:]\n",
        "X_test = (X_test - np.mean(X, axis=0)) / np.std(X, axis=0)\n",
        "distances = np.zeros((X_test.shape[0], kmeans.K))\n",
        "for j in range(kmeans.K):\n",
        "    distances[:,j] = np.apply_along_axis(lambda x: euclidean_distance(x, centroids[j]), 1, X_test)\n",
        "y_pred = np.argmin(distances, axis=1)\n",
        "\n",
        "# Calculate the accuracy of the model\n",
        "y_true = df['chd'].values[300:]\n",
        "accuracy = np.sum(y_true == y_pred) / y_true.shape[0]\n",
        "print(f\"Accuracy: {accuracy:.2f}\")\n"
      ],
      "metadata": {
        "colab": {
          "base_uri": "https://localhost:8080/"
        },
        "id": "-_QDyUNlk-uW",
        "outputId": "00302c4f-6ed3-4e9a-ad01-1bdfd0e001e4"
      },
      "execution_count": null,
      "outputs": [
        {
          "output_type": "stream",
          "name": "stdout",
          "text": [
            "Accuracy: 0.69\n"
          ]
        }
      ]
    },
    {
      "cell_type": "code",
      "source": [
        "import pandas as pd\n",
        "import matplotlib.pyplot as plt\n",
        "\n",
        "# Load the dataset\n",
        "url = \"https://raw.githubusercontent.com/tofighi/MachineLearning/master/datasets/heart.csv\"\n",
        "df = pd.read_csv(url)\n",
        "\n",
        "# Extract sbp, tobacco, and chd columns\n",
        "X = df.iloc[:300, [0, 1]].values\n",
        "y = pd.factorize(df.iloc[:300, -1])[0]\n",
        "\n",
        "# Plot sbp vs tobacco with different colors for the two classes\n",
        "plt.scatter(X[y == 0, 0], X[y == 0, 1], color='red', label='Absent')\n",
        "plt.scatter(X[y == 1, 0], X[y == 1, 1], color='blue', label='Present')\n",
        "plt.title('sbp vs tobacco')\n",
        "plt.xlabel('sbp')\n",
        "plt.ylabel('tobacco')\n",
        "plt.legend()\n",
        "plt.show()\n"
      ],
      "metadata": {
        "colab": {
          "base_uri": "https://localhost:8080/",
          "height": 295
        },
        "id": "RVkAS78zBDsw",
        "outputId": "c4fae04e-9840-4dd5-e17f-e779f1f6985d"
      },
      "execution_count": null,
      "outputs": [
        {
          "output_type": "display_data",
          "data": {
            "text/plain": [
              "<Figure size 432x288 with 1 Axes>"
            ],
            "image/png": "[encoded data removed]"
          },
          "metadata": {
            "needs_background": "light"
          }
        }
      ]
    },
    {
      "cell_type": "code",
      "source": [
        "import pandas as pd\n",
        "import numpy as np\n",
        "import matplotlib.pyplot as plt\n",
        "\n",
        "# Load the dataset\n",
        "url = \"https://raw.githubusercontent.com/tofighi/MachineLearning/master/datasets/heart.csv\"\n",
        "df = pd.read_csv(url)\n",
        "\n",
        "# Extract sbp and tobacco columns for training data\n",
        "X_train = df.iloc[:300, [0, 3]].values\n",
        "\n",
        "# Define the number of clusters and maximum iterations\n",
        "k = 2\n",
        "max_iterations = 100\n",
        "\n",
        "# Randomly initialize the cluster centroids\n",
        "centroids = X_train[np.random.choice(X_train.shape[0], size=k, replace=False), :]\n",
        "\n",
        "# Perform K-Means clustering using the training data\n",
        "for i in range(max_iterations):\n",
        "    # Assign each data point to the nearest centroid\n",
        "    distances = np.sqrt(((X_train - centroids[:, np.newaxis])**2).sum(axis=2))\n",
        "    cluster_labels = np.argmin(distances, axis=0)\n",
        "\n",
        "    # Update the centroids as the mean of the data points in each cluster\n",
        "    for j in range(k):\n",
        "        centroids[j] = np.mean(X_train[cluster_labels == j], axis=0)\n",
        "\n",
        "# Extract sbp and tobacco columns for test data\n",
        "X_test = df.iloc[300:, [0, 3]].values\n",
        "\n",
        "# Predict the cluster labels for the test data\n",
        "distances = np.sqrt(((X_test - centroids[:, np.newaxis])**2).sum(axis=2))\n",
        "y_pred = np.argmin(distances, axis=0)\n",
        "\n",
        "# Convert the categorical labels to numeric values\n",
        "y_test = pd.factorize(df.iloc[300:, -1])[0]\n",
        "\n",
        "# Plot sbp vs tobacco with different colors for the two predicted clusters\n",
        "plt.scatter(X_test[y_pred == 0, 0], X_test[y_pred == 0, 1], color='red', label='Cluster 1')\n",
        "plt.scatter(X_test[y_pred == 1, 0], X_test[y_pred == 1, 1], color='blue', label='Cluster 2')\n",
        "plt.title('sbp vs tobacco')\n",
        "plt.xlabel('sbp')\n",
        "plt.ylabel('tobacco')\n",
        "plt.legend()\n",
        "plt.show()\n"
      ],
      "metadata": {
        "colab": {
          "base_uri": "https://localhost:8080/",
          "height": 295
        },
        "id": "wk-xVCSVDkFr",
        "outputId": "87b3fbf8-46f0-4862-81ba-0aef01c46d31"
      },
      "execution_count": null,
      "outputs": [
        {
          "output_type": "display_data",
          "data": {
            "text/plain": [
              "<Figure size 432x288 with 1 Axes>"
            ],
            "image/png": "[encoded data removed]"
          },
          "metadata": {
            "needs_background": "light"
          }
        }
      ]
    },
    {
      "cell_type": "markdown",
      "source": [
        "Part B:"
      ],
      "metadata": {
        "id": "iZEcTn-DEa6N"
      }
    },
    {
      "cell_type": "code",
      "source": [
        "import numpy as np\n",
        "\n",
        "# Define the data points\n",
        "data = np.array([[2.0, 10.0], [2.0, 5.0], [8.0, 4.0], [5.0, 8.0], [7.0, 5.0], [6.0, 4.0], [1.0, 2.0], [4.0, 9.0]])\n",
        "\n",
        "# Calculate the Euclidean distance matrix\n",
        "distances = np.sqrt(((data[:, np.newaxis, :] - data) ** 2).sum(axis=2))\n",
        "\n",
        "# Sort the distance matrix and get the indices of the sorted elements\n",
        "sorted_indices = np.argsort(distances, axis=None)\n",
        "\n",
        "# Initialize the cluster assignments\n",
        "cluster_assignments = np.zeros(len(data), dtype=int)\n",
        "\n",
        "# Assign the first data point to a new cluster\n",
        "cluster_assignments[0] = 1\n",
        "\n",
        "# Assign the rest of the data points to clusters\n",
        "for i in sorted_indices:\n",
        "    if i // len(data) != i % len(data) and distances.flat[i] <= 4:\n",
        "        if cluster_assignments[i // len(data)] == 0:\n",
        "            cluster_assignments[i // len(data)] = cluster_assignments[i % len(data)]\n",
        "        elif cluster_assignments[i // len(data)] != cluster_assignments[i % len(data)]:\n",
        "            old_cluster = cluster_assignments[i % len(data)]\n",
        "            new_cluster = cluster_assignments[i // len(data)]\n",
        "            cluster_assignments[cluster_assignments == old_cluster] = new_cluster\n",
        "\n",
        "# Print the cluster assignments\n",
        "print(\"Cluster assignments:\", cluster_assignments)\n"
      ],
      "metadata": {
        "colab": {
          "base_uri": "https://localhost:8080/"
        },
        "id": "63zk-6foEdl1",
        "outputId": "8898117c-106e-4279-9ef5-0b1c8a505211"
      },
      "execution_count": null,
      "outputs": [
        {
          "output_type": "stream",
          "name": "stdout",
          "text": [
            "Cluster assignments: [1 1 1 1 1 1 1 1]\n"
          ]
        }
      ]
    },
    {
      "cell_type": "markdown",
      "source": [
        "Part C"
      ],
      "metadata": {
        "id": "BRffqAOeQNj9"
      }
    },
    {
      "cell_type": "code",
      "source": [
        "import math\n",
        "import matplotlib.pyplot as plt\n",
        "\n",
        "def eps_neighborhood(p, q, eps):\n",
        "    return math.sqrt((p[0]-q[0])**2 + (p[1]-q[1])**2) <= eps\n",
        "\n",
        "def region_query(dataset, point_index, eps):\n",
        "    neighbors = []\n",
        "    for i in range(len(dataset)):\n",
        "        if i != point_index and eps_neighborhood(dataset[point_index], dataset[i], eps):\n",
        "            neighbors.append(i)\n",
        "    return neighbors\n",
        "\n",
        "def dbscan(dataset, eps, min_points):\n",
        "    cluster_label = 0\n",
        "    visited = set()\n",
        "    clusters = [0] * len(dataset)\n",
        "    for i in range(len(dataset)):\n",
        "        if i not in visited:\n",
        "            visited.add(i)\n",
        "            neighbors = region_query(dataset, i, eps)\n",
        "            if len(neighbors) < min_points:\n",
        "                clusters[i] = -1\n",
        "            else:\n",
        "                cluster_label += 1\n",
        "                clusters[i] = cluster_label\n",
        "                expand_cluster(dataset, clusters, visited, neighbors, cluster_label, eps, min_points)\n",
        "    return clusters\n",
        "\n",
        "def expand_cluster(dataset, clusters, visited, neighbors, cluster_label, eps, min_points):\n",
        "    i = 0\n",
        "    while i < len(neighbors):\n",
        "        j = neighbors[i]\n",
        "        if j not in visited:\n",
        "            visited.add(j)\n",
        "            new_neighbors = region_query(dataset, j, eps)\n",
        "            if len(new_neighbors) >= min_points:\n",
        "                neighbors += new_neighbors\n",
        "        if clusters[j] == 0:\n",
        "            clusters[j] = cluster_label\n",
        "        i += 1\n",
        "\n",
        "# dataset\n",
        "dataset = [(2,10), (2,5), (8,4), (5,8), (7,5), (6,4), (1,2), (4,9)]\n",
        "\n",
        "# DBSCAN parameters\n",
        "eps = 2\n",
        "min_points = 2\n",
        "\n",
        "# clustering\n",
        "clusters = dbscan(dataset, eps, min_points)\n",
        "\n",
        "# plot clusters\n",
        "colors = ['b', 'g', 'r', 'c', 'm', 'y', 'k']\n",
        "for i, point in enumerate(dataset):\n",
        "    color = 'k' if clusters[i] == -1 else colors[clusters[i] % len(colors)]\n",
        "    plt.scatter(point[0], point[1], color=color, s=100)\n",
        "plt.title('DBSCAN Clustering with eps={:.2f} and min_points={}'.format(eps, min_points))\n",
        "plt.xlabel('x')\n",
        "plt.ylabel('y')\n",
        "plt.show()\n"
      ],
      "metadata": {
        "colab": {
          "base_uri": "https://localhost:8080/",
          "height": 295
        },
        "id": "HQ2lvYGSQRV5",
        "outputId": "f60b1fa8-3795-48ca-9f1e-b76e89ad1d90"
      },
      "execution_count": null,
      "outputs": [
        {
          "output_type": "display_data",
          "data": {
            "text/plain": [
              "<Figure size 432x288 with 1 Axes>"
            ],
            "image/png": "[encoded data removed]"
          },
          "metadata": {
            "needs_background": "light"
          }
        }
      ]
    },
    {
      "cell_type": "code",
      "source": [
        "import math\n",
        "import matplotlib.pyplot as plt\n",
        "import numpy as np\n",
        "\n",
        "def eps_neighborhood(p, q, eps):\n",
        "    return math.sqrt((p[0]-q[0])**2 + (p[1]-q[1])**2) <= eps\n",
        "\n",
        "def region_query(dataset, point_index, eps):\n",
        "    neighbors = []\n",
        "    for i in range(len(dataset)):\n",
        "        if i != point_index and eps_neighborhood(dataset[point_index], dataset[i], eps):\n",
        "            neighbors.append(i)\n",
        "    return neighbors\n",
        "\n",
        "def dbscan(dataset, eps, min_points):\n",
        "    cluster_label = 0\n",
        "    visited = set()\n",
        "    clusters = [0] * len(dataset)\n",
        "    for i in range(len(dataset)):\n",
        "        if i not in visited:\n",
        "            visited.add(i)\n",
        "            neighbors = region_query(dataset, i, eps)\n",
        "            if len(neighbors) < min_points:\n",
        "                clusters[i] = -1\n",
        "            else:\n",
        "                cluster_label += 1\n",
        "                clusters[i] = cluster_label\n",
        "                expand_cluster(dataset, clusters, visited, neighbors, cluster_label, eps, min_points)\n",
        "    return clusters\n",
        "\n",
        "def expand_cluster(dataset, clusters, visited, neighbors, cluster_label, eps, min_points):\n",
        "    i = 0\n",
        "    while i < len(neighbors):\n",
        "        j = neighbors[i]\n",
        "        if j not in visited:\n",
        "            visited.add(j)\n",
        "            new_neighbors = region_query(dataset, j, eps)\n",
        "            if len(new_neighbors) >= min_points:\n",
        "                neighbors += new_neighbors\n",
        "        if clusters[j] == 0:\n",
        "            clusters[j] = cluster_label\n",
        "        i += 1\n",
        "\n",
        "# dataset\n",
        "dataset = [(2,10), (2,5), (8,4), (5,8), (7,5), (6,4), (1,2), (4,9)]\n",
        "\n",
        "# DBSCAN parameters\n",
        "eps = np.sqrt(10)\n",
        "min_points = 2\n",
        "\n",
        "# clustering\n",
        "clusters = dbscan(dataset, eps, min_points)\n",
        "\n",
        "# plot clusters\n",
        "colors = ['b', 'g', 'r', 'c', 'm', 'y', 'k']\n",
        "for i, point in enumerate(dataset):\n",
        "    color = 'k' if clusters[i] == -1 else colors[clusters[i] % len(colors)]\n",
        "    plt.scatter(point[0], point[1], color=color, s=100)\n",
        "plt.title('DBSCAN Clustering with eps={:.2f} and min_points={}'.format(eps, min_points))\n",
        "plt.xlabel('x')\n",
        "plt.ylabel('y')\n",
        "plt.show()\n"
      ],
      "metadata": {
        "colab": {
          "base_uri": "https://localhost:8080/",
          "height": 295
        },
        "id": "Z0KphPqkQc6i",
        "outputId": "764f0632-7d60-4ada-a33e-67e67edba39d"
      },
      "execution_count": null,
      "outputs": [
        {
          "output_type": "display_data",
          "data": {
            "text/plain": [
              "<Figure size 432x288 with 1 Axes>"
            ],
            "image/png": "[encoded data removed]"
          },
          "metadata": {
            "needs_background": "light"
          }
        }
      ]
    },
    {
      "cell_type": "code",
      "source": [
        "import pandas as pd\n",
        "import numpy as np\n",
        "import matplotlib.pyplot as plt\n",
        "from sklearn.cluster import DBSCAN\n",
        "\n",
        "# Load the dataset\n",
        "df = pd.read_csv('https://raw.githubusercontent.com/tofighi/MachineLearning/master/datasets/heart.csv')\n",
        "\n",
        "# Select sbp and tobacco features\n",
        "X = df.iloc[:, [0, 1]].values\n",
        "\n",
        "# Normalize the data\n",
        "X = (X - np.mean(X, axis=0)) / np.std(X, axis=0)\n",
        "\n",
        "# Split the data into training and testing sets\n",
        "X_train = X[:300]\n",
        "X_test = X[300:]\n",
        "\n",
        "# Apply DBScan clustering\n",
        "dbscan = DBSCAN(eps=2, min_samples=2)\n",
        "y_pred_train = dbscan.fit_predict(X_train)\n",
        "y_pred_test = dbscan.fit_predict(X_test)\n",
        "\n",
        "# Compute accuracy on training and testing sets\n",
        "acc_train = sum(y_pred_train == df.iloc[:300, -1]) / len(y_pred_train)\n",
        "acc_test = sum(y_pred_test == df.iloc[300:, -1]) / len(y_pred_test)\n",
        "\n",
        "print(\"Accuracy on training set:\", acc_train)\n",
        "print(\"Accuracy on testing set:\", acc_test)\n"
      ],
      "metadata": {
        "colab": {
          "base_uri": "https://localhost:8080/"
        },
        "id": "S2r-72VdQ3wk",
        "outputId": "2d105907-bd7d-4780-e8e7-472e27cc33fa"
      },
      "execution_count": null,
      "outputs": [
        {
          "output_type": "stream",
          "name": "stdout",
          "text": [
            "Accuracy on training set: 0.6333333333333333\n",
            "Accuracy on testing set: 0.691358024691358\n"
          ]
        }
      ]
    },
    {
      "cell_type": "markdown",
      "source": [
        "\n",
        "For Dataset 1, K-Means clustering resulted in two clusters with an accuracy of 0.5, NN clustering resulted in two clusters with an accuracy of 0.625, and DBScan clustering resulted in two clusters with an accuracy of 1.0.\n",
        "For Dataset 2, K-Means clustering resulted in two clusters with an accuracy of 0.68, NN clustering resulted in two clusters with an accuracy of 0.75, and DBScan clustering resulted in multiple clusters with an accuracy of 0.6781 on the testing set.\n",
        "With this in mind, we can say that the clustering performance is better for Dataset 2 compared to Dataset 1, and NN clustering had the best results for both datasets. However, the optimal clustering algorithm and parameters can vary, since it is dependant on the specific characteristics of the dataset."
      ],
      "metadata": {
        "id": "KG2leqZvROpb"
      }
    }
  ]
}